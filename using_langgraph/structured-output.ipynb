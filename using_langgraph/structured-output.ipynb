{
 "cells": [
  {
   "cell_type": "markdown",
   "metadata": {},
   "source": [
    "# Saída estruturada"
   ]
  },
  {
   "cell_type": "markdown",
   "metadata": {},
   "source": [
    "Nesta parte, quero explorar como fazer com que um LLM retorne uma saída estruturada.\n",
    "\n",
    "LangChain oferece uma forma de acionar o LLM requisitando que a resposta siga uma certa estrutura."
   ]
  },
  {
   "cell_type": "markdown",
   "metadata": {},
   "source": [
    "## Configuração"
   ]
  },
  {
   "cell_type": "markdown",
   "metadata": {},
   "source": [
    "Carregue variáveis de ambiente"
   ]
  },
  {
   "cell_type": "code",
   "execution_count": 1,
   "metadata": {},
   "outputs": [],
   "source": [
    "from dotenv import load_dotenv\n",
    "_ = load_dotenv()"
   ]
  },
  {
   "cell_type": "markdown",
   "metadata": {},
   "source": [
    "## Acesso ao LLM"
   ]
  },
  {
   "cell_type": "markdown",
   "metadata": {},
   "source": [
    "Configure o LangChain para usar o LLM desejado."
   ]
  },
  {
   "cell_type": "code",
   "execution_count": 2,
   "metadata": {},
   "outputs": [],
   "source": [
    "from langchain_ollama import ChatOllama\n",
    "\n",
    "llm = ChatOllama(\n",
    "    model=\"llama3.2\", \n",
    "    temperature=0.0, \n",
    "    max_tokens=1000,\n",
    ")"
   ]
  },
  {
   "cell_type": "markdown",
   "metadata": {},
   "source": [
    "Esse é um texto de exemplo extraído da Wikipedia (https://pt.wikipedia.org/wiki/Campinas)"
   ]
  },
  {
   "cell_type": "code",
   "execution_count": 3,
   "metadata": {},
   "outputs": [],
   "source": [
    "city_description = \"\"\"Campinas é um município brasileiro no interior de São Paulo, Região Sudeste do Brasil. \n",
    "É um dos dezoito municípios que integram a Região Imediata de Campinas, que por sua vez é uma das onze\n",
    "regiões imediatas que integram a Região Intermediária de Campinas.[7] Distante 99 km a noroeste de\n",
    "São Paulo, capital estadual, ocupa uma área de 794,571 km². Em 2022, sua população foi estimada\n",
    "pelo Instituto Brasileiro de Geografia e Estatística em 1 139 047 habitantes,[1] sendo, em 2021 o\n",
    "terceiro município mais populoso de São Paulo (ficando atrás de Guarulhos e da capital) e o décimo\n",
    "quarto de todo o país. Aparece em quinto lugar entre 100 municípios analisados pelo Índice das\n",
    "Melhores e Maiores Cidades Brasileiras, o BCI100, elaborado pela Delta Economics & Finance com\n",
    "base nos dados do Censo 2010 do IBGE e do Ideb.[8][9]\n",
    "Campinas foi fundada em 14 de julho de 1774. Entre o final do século XVIII e o começo do século\n",
    "XX, a cidade teve o café e a cana-de-açúcar como importantes atividades econômicas. Porém, desde a\n",
    "década de 1930, a indústria e o comércio são as principais fontes de renda, sendo considerada um\n",
    "polo industrial regional. Atualmente, é formada por seis distritos, além da sede, sendo, ainda,\n",
    "subdividida em 14 administrações regionais, cinco regiões e vários bairros.[10]\n",
    "Com o décimo segundo maior PIB entre os municípios do país, é a primeira cidade brasileira a se\n",
    "tornar metrópole sem ser uma capital, exercendo significativa influência nacional.[11] Em 2011, foi\n",
    "responsável por pelo menos 15% de toda a produção científica nacional, sendo o terceiro maior polo\n",
    "de pesquisa e desenvolvimento brasileiro.[12] Tem também diversos atrativos turísticos, com valor\n",
    "histórico, cultural ou científico, como museus, parques e teatros. A Orquestra Sinfônica Municipal de\n",
    "Campinas, fundada em 1974, é considerada uma das principais do país.\"\"\""
   ]
  },
  {
   "cell_type": "markdown",
   "metadata": {},
   "source": [
    "Essas são as informações desejadas sobre a cidade:"
   ]
  },
  {
   "cell_type": "code",
   "execution_count": 4,
   "metadata": {},
   "outputs": [],
   "source": [
    "from pydantic import BaseModel, Field\n",
    "\n",
    "class CityInformation(BaseModel):\n",
    "    name: str = Field(description=\"Nome da cidade\")\n",
    "    area: str = Field(description=\"Área ocupada pela cidade\", default=\"\")\n",
    "    foundation_date: str = Field(description=\"Data de fundação\", default=\"\")\n",
    "    population: str = Field(description=\"População\", default=\"\")\n",
    "    economy: str = Field(description=\"Atividade econômica atual\", default=\"\")"
   ]
  },
  {
   "cell_type": "markdown",
   "metadata": {},
   "source": [
    "Aqui construímos o prompt a ser usado:"
   ]
  },
  {
   "cell_type": "code",
   "execution_count": 5,
   "metadata": {},
   "outputs": [
    {
     "name": "stdout",
     "output_type": "stream",
     "text": [
      "Analise o texto apresentado e extraia as seguintes informações:\n",
      "- name: Nome da cidade\n",
      "- area: Área ocupada pela cidade\n",
      "- foundation_date: Data de fundação\n",
      "- population: População\n",
      "- economy: Atividade econômica atual\n",
      "\n",
      "Se uma informação não for encontrada, deixe o campo vazio.\n",
      "Escreva a resposta no formato JSON.\n",
      "\n",
      "TEXTO:\n",
      "\n",
      "Campinas é um município brasileiro no interior de São Paulo, Região Sudeste do Brasil. \n",
      "É um dos dezoito municípios que integram a Região Imediata de Campinas, que por sua vez é uma das onze\n",
      "regiões imediatas que integram a Região Intermediária de Campinas.[7] Distante 99 km a noroeste de\n",
      "São Paulo, capital estadual, ocupa uma área de 794,571 km². Em 2022, sua população foi estimada\n",
      "pelo Instituto Brasileiro de Geografia e Estatística em 1 139 047 habitantes,[1] sendo, em 2021 o\n",
      "terceiro município mais populoso de São Paulo (ficando atrás de Guarulhos e da capital) e o décimo\n",
      "quarto de todo o país. Aparece em quinto lugar entre 100 municípios analisados pelo Índice das\n",
      "Melhores e Maiores Cidades Brasileiras, o BCI100, elaborado pela Delta Economics & Finance com\n",
      "base nos dados do Censo 2010 do IBGE e do Ideb.[8][9]\n",
      "Campinas foi fundada em 14 de julho de 1774. Entre o final do século XVIII e o começo do século\n",
      "XX, a cidade teve o café e a cana-de-açúcar como importantes atividades econômicas. Porém, desde a\n",
      "década de 1930, a indústria e o comércio são as principais fontes de renda, sendo considerada um\n",
      "polo industrial regional. Atualmente, é formada por seis distritos, além da sede, sendo, ainda,\n",
      "subdividida em 14 administrações regionais, cinco regiões e vários bairros.[10]\n",
      "Com o décimo segundo maior PIB entre os municípios do país, é a primeira cidade brasileira a se\n",
      "tornar metrópole sem ser uma capital, exercendo significativa influência nacional.[11] Em 2011, foi\n",
      "responsável por pelo menos 15% de toda a produção científica nacional, sendo o terceiro maior polo\n",
      "de pesquisa e desenvolvimento brasileiro.[12] Tem também diversos atrativos turísticos, com valor\n",
      "histórico, cultural ou científico, como museus, parques e teatros. A Orquestra Sinfônica Municipal de\n",
      "Campinas, fundada em 1974, é considerada uma das principais do país.\n"
     ]
    }
   ],
   "source": [
    "fields = \"\"\n",
    "for key, field in CityInformation.model_fields.items():\n",
    "    fields += f\"- {key}: {field.description}\\n\"\n",
    "\n",
    "prompt_template = \"\"\"Analise o texto apresentado e extraia as seguintes informações:\n",
    "{information_fields}\n",
    "Se uma informação não for encontrada, deixe o campo vazio.\n",
    "Escreva a resposta no formato JSON.\n",
    "\n",
    "TEXTO:\n",
    "\n",
    "{input_text}\"\"\"\n",
    "\n",
    "\n",
    "prompt = prompt_template.format(information_fields=fields, input_text=city_description)\n",
    "\n",
    "print(prompt)"
   ]
  },
  {
   "cell_type": "code",
   "execution_count": 6,
   "metadata": {},
   "outputs": [
    {
     "data": {
      "text/html": [
       "<pre style=\"white-space:pre;overflow-x:auto;line-height:normal;font-family:Menlo,'DejaVu Sans Mono',consolas,'Courier New',monospace\"><span style=\"color: #800080; text-decoration-color: #800080; font-weight: bold\">CityInformation</span><span style=\"font-weight: bold\">(</span>\n",
       "<span style=\"color: #7fbf7f; text-decoration-color: #7fbf7f\">│   </span><span style=\"color: #808000; text-decoration-color: #808000\">name</span>=<span style=\"color: #008000; text-decoration-color: #008000\">'Campinas'</span>,\n",
       "<span style=\"color: #7fbf7f; text-decoration-color: #7fbf7f\">│   </span><span style=\"color: #808000; text-decoration-color: #808000\">area</span>=<span style=\"color: #008000; text-decoration-color: #008000\">'794,571 km²'</span>,\n",
       "<span style=\"color: #7fbf7f; text-decoration-color: #7fbf7f\">│   </span><span style=\"color: #808000; text-decoration-color: #808000\">foundation_date</span>=<span style=\"color: #008000; text-decoration-color: #008000\">'14 de julho de 1774'</span>,\n",
       "<span style=\"color: #7fbf7f; text-decoration-color: #7fbf7f\">│   </span><span style=\"color: #808000; text-decoration-color: #808000\">population</span>=<span style=\"color: #008000; text-decoration-color: #008000\">'1 139 047 habitantes (2022)'</span>,\n",
       "<span style=\"color: #7fbf7f; text-decoration-color: #7fbf7f\">│   </span><span style=\"color: #808000; text-decoration-color: #808000\">economy</span>=<span style=\"color: #008000; text-decoration-color: #008000\">'Indústria e comércio'</span>\n",
       "<span style=\"font-weight: bold\">)</span>\n",
       "</pre>\n"
      ],
      "text/plain": [
       "\u001b[1;35mCityInformation\u001b[0m\u001b[1m(\u001b[0m\n",
       "\u001b[2;32m│   \u001b[0m\u001b[33mname\u001b[0m=\u001b[32m'Campinas'\u001b[0m,\n",
       "\u001b[2;32m│   \u001b[0m\u001b[33marea\u001b[0m=\u001b[32m'794,571 km²'\u001b[0m,\n",
       "\u001b[2;32m│   \u001b[0m\u001b[33mfoundation_date\u001b[0m=\u001b[32m'14 de julho de 1774'\u001b[0m,\n",
       "\u001b[2;32m│   \u001b[0m\u001b[33mpopulation\u001b[0m=\u001b[32m'1 139 047 habitantes \u001b[0m\u001b[32m(\u001b[0m\u001b[32m2022\u001b[0m\u001b[32m)\u001b[0m\u001b[32m'\u001b[0m,\n",
       "\u001b[2;32m│   \u001b[0m\u001b[33meconomy\u001b[0m=\u001b[32m'Indústria e comércio'\u001b[0m\n",
       "\u001b[1m)\u001b[0m\n"
      ]
     },
     "metadata": {},
     "output_type": "display_data"
    }
   ],
   "source": [
    "from rich.pretty import pprint\n",
    "\n",
    "llm_struct_output = llm.with_structured_output(CityInformation)\n",
    "\n",
    "response = llm_struct_output.invoke(\n",
    "    prompt_template.format(information_fields=fields, input_text=city_description)\n",
    ")\n",
    "\n",
    "pprint(response)"
   ]
  },
  {
   "cell_type": "markdown",
   "metadata": {},
   "source": [
    "O que acontece se a informação não está presente?"
   ]
  },
  {
   "cell_type": "code",
   "execution_count": 7,
   "metadata": {},
   "outputs": [
    {
     "data": {
      "text/html": [
       "<pre style=\"white-space:pre;overflow-x:auto;line-height:normal;font-family:Menlo,'DejaVu Sans Mono',consolas,'Courier New',monospace\"><span style=\"color: #800080; text-decoration-color: #800080; font-weight: bold\">CityInformation</span><span style=\"font-weight: bold\">(</span>\n",
       "<span style=\"color: #7fbf7f; text-decoration-color: #7fbf7f\">│   </span><span style=\"color: #808000; text-decoration-color: #808000\">name</span>=<span style=\"color: #008000; text-decoration-color: #008000\">'Campinas'</span>,\n",
       "<span style=\"color: #7fbf7f; text-decoration-color: #7fbf7f\">│   </span><span style=\"color: #808000; text-decoration-color: #808000\">area</span>=<span style=\"color: #008000; text-decoration-color: #008000\">'794,571 km²'</span>,\n",
       "<span style=\"color: #7fbf7f; text-decoration-color: #7fbf7f\">│   </span><span style=\"color: #808000; text-decoration-color: #808000\">foundation_date</span>=<span style=\"color: #008000; text-decoration-color: #008000\">''</span>,\n",
       "<span style=\"color: #7fbf7f; text-decoration-color: #7fbf7f\">│   </span><span style=\"color: #808000; text-decoration-color: #808000\">population</span>=<span style=\"color: #008000; text-decoration-color: #008000\">'1 139 047 habitantes'</span>,\n",
       "<span style=\"color: #7fbf7f; text-decoration-color: #7fbf7f\">│   </span><span style=\"color: #808000; text-decoration-color: #808000\">economy</span>=<span style=\"color: #008000; text-decoration-color: #008000\">''</span>\n",
       "<span style=\"font-weight: bold\">)</span>\n",
       "</pre>\n"
      ],
      "text/plain": [
       "\u001b[1;35mCityInformation\u001b[0m\u001b[1m(\u001b[0m\n",
       "\u001b[2;32m│   \u001b[0m\u001b[33mname\u001b[0m=\u001b[32m'Campinas'\u001b[0m,\n",
       "\u001b[2;32m│   \u001b[0m\u001b[33marea\u001b[0m=\u001b[32m'794,571 km²'\u001b[0m,\n",
       "\u001b[2;32m│   \u001b[0m\u001b[33mfoundation_date\u001b[0m=\u001b[32m''\u001b[0m,\n",
       "\u001b[2;32m│   \u001b[0m\u001b[33mpopulation\u001b[0m=\u001b[32m'1 139 047 habitantes'\u001b[0m,\n",
       "\u001b[2;32m│   \u001b[0m\u001b[33meconomy\u001b[0m=\u001b[32m''\u001b[0m\n",
       "\u001b[1m)\u001b[0m\n"
      ]
     },
     "metadata": {},
     "output_type": "display_data"
    }
   ],
   "source": [
    "other_description = \"\"\"Campinas é um município brasileiro no interior de São Paulo, Região Sudeste do Brasil. \n",
    "É um dos dezoito municípios que integram a Região Imediata de Campinas, que por sua vez é uma das onze\n",
    "regiões imediatas que integram a Região Intermediária de Campinas.[7] Distante 99 km a noroeste de\n",
    "São Paulo, capital estadual, ocupa uma área de 794,571 km². Em 2022, sua população foi estimada\n",
    "pelo Instituto Brasileiro de Geografia e Estatística em 1 139 047 habitantes,[1] sendo, em 2021 o\n",
    "terceiro município mais populoso de São Paulo (ficando atrás de Guarulhos e da capital) e o décimo\n",
    "quarto de todo o país. Aparece em quinto lugar entre 100 municípios analisados pelo Índice das\n",
    "Melhores e Maiores Cidades Brasileiras, o BCI100, elaborado pela Delta Economics & Finance com\n",
    "base nos dados do Censo 2010 do IBGE e do Ideb.\"\"\"\n",
    "\n",
    "response = llm_struct_output.invoke(\n",
    "    prompt_template.format(information_fields=fields, input_text=other_description)\n",
    ")\n",
    "\n",
    "pprint(response)"
   ]
  },
  {
   "cell_type": "code",
   "execution_count": 8,
   "metadata": {},
   "outputs": [
    {
     "data": {
      "text/html": [
       "<pre style=\"white-space:pre;overflow-x:auto;line-height:normal;font-family:Menlo,'DejaVu Sans Mono',consolas,'Courier New',monospace\"><span style=\"color: #800080; text-decoration-color: #800080; font-weight: bold\">CityInformation</span><span style=\"font-weight: bold\">(</span>\n",
       "<span style=\"color: #7fbf7f; text-decoration-color: #7fbf7f\">│   </span><span style=\"color: #808000; text-decoration-color: #808000\">name</span>=<span style=\"color: #008000; text-decoration-color: #008000\">'Campinas'</span>,\n",
       "<span style=\"color: #7fbf7f; text-decoration-color: #7fbf7f\">│   </span><span style=\"color: #808000; text-decoration-color: #808000\">area</span>=<span style=\"color: #008000; text-decoration-color: #008000\">''</span>,\n",
       "<span style=\"color: #7fbf7f; text-decoration-color: #7fbf7f\">│   </span><span style=\"color: #808000; text-decoration-color: #808000\">foundation_date</span>=<span style=\"color: #008000; text-decoration-color: #008000\">'14 de julho de 1774'</span>,\n",
       "<span style=\"color: #7fbf7f; text-decoration-color: #7fbf7f\">│   </span><span style=\"color: #808000; text-decoration-color: #808000\">population</span>=<span style=\"color: #008000; text-decoration-color: #008000\">''</span>,\n",
       "<span style=\"color: #7fbf7f; text-decoration-color: #7fbf7f\">│   </span><span style=\"color: #808000; text-decoration-color: #808000\">economy</span>=<span style=\"color: #008000; text-decoration-color: #008000\">'Indústria e comércio'</span>\n",
       "<span style=\"font-weight: bold\">)</span>\n",
       "</pre>\n"
      ],
      "text/plain": [
       "\u001b[1;35mCityInformation\u001b[0m\u001b[1m(\u001b[0m\n",
       "\u001b[2;32m│   \u001b[0m\u001b[33mname\u001b[0m=\u001b[32m'Campinas'\u001b[0m,\n",
       "\u001b[2;32m│   \u001b[0m\u001b[33marea\u001b[0m=\u001b[32m''\u001b[0m,\n",
       "\u001b[2;32m│   \u001b[0m\u001b[33mfoundation_date\u001b[0m=\u001b[32m'14 de julho de 1774'\u001b[0m,\n",
       "\u001b[2;32m│   \u001b[0m\u001b[33mpopulation\u001b[0m=\u001b[32m''\u001b[0m,\n",
       "\u001b[2;32m│   \u001b[0m\u001b[33meconomy\u001b[0m=\u001b[32m'Indústria e comércio'\u001b[0m\n",
       "\u001b[1m)\u001b[0m\n"
      ]
     },
     "metadata": {},
     "output_type": "display_data"
    }
   ],
   "source": [
    "other_description = \"\"\"Campinas foi fundada em 14 de julho de 1774. Entre o final do século XVIII e o começo do século\n",
    "XX, a cidade teve o café e a cana-de-açúcar como importantes atividades econômicas. Porém, desde a\n",
    "década de 1930, a indústria e o comércio são as principais fontes de renda, sendo considerada um\n",
    "polo industrial regional. Atualmente, é formada por seis distritos, além da sede, sendo, ainda,\n",
    "subdividida em 14 administrações regionais, cinco regiões e vários bairros.[10]\n",
    "Com o décimo segundo maior PIB entre os municípios do país, é a primeira cidade brasileira a se\n",
    "tornar metrópole sem ser uma capital, exercendo significativa influência nacional.[11] Em 2011, foi\n",
    "responsável por pelo menos 15% de toda a produção científica nacional, sendo o terceiro maior polo\n",
    "de pesquisa e desenvolvimento brasileiro.[12] Tem também diversos atrativos turísticos, com valor\n",
    "histórico, cultural ou científico, como museus, parques e teatros. A Orquestra Sinfônica Municipal de\n",
    "Campinas, fundada em 1974, é considerada uma das principais do país.\"\"\"\n",
    "\n",
    "response = llm_struct_output.invoke(\n",
    "    prompt_template.format(information_fields=fields, input_text=other_description)\n",
    ")\n",
    "\n",
    "pprint(response)"
   ]
  }
 ],
 "metadata": {
  "kernelspec": {
   "display_name": ".venv",
   "language": "python",
   "name": "python3"
  },
  "language_info": {
   "codemirror_mode": {
    "name": "ipython",
    "version": 3
   },
   "file_extension": ".py",
   "mimetype": "text/x-python",
   "name": "python",
   "nbconvert_exporter": "python",
   "pygments_lexer": "ipython3",
   "version": "3.11.11"
  }
 },
 "nbformat": 4,
 "nbformat_minor": 2
}
