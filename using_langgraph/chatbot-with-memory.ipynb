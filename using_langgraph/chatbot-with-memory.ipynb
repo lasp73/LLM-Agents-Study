{
 "cells": [
  {
   "cell_type": "markdown",
   "metadata": {},
   "source": [
    "# Chatbot zero"
   ]
  },
  {
   "cell_type": "markdown",
   "metadata": {},
   "source": [
    "Neste exemplo implementamos um chatbot com descrição do perfil do agente, memória e acesso a informações. "
   ]
  },
  {
   "cell_type": "markdown",
   "metadata": {},
   "source": [
    "## Configuração"
   ]
  },
  {
   "cell_type": "markdown",
   "metadata": {},
   "source": [
    "Carregue variáveis de ambiente"
   ]
  },
  {
   "cell_type": "code",
   "execution_count": 1,
   "metadata": {},
   "outputs": [],
   "source": [
    "from dotenv import load_dotenv\n",
    "_ = load_dotenv()"
   ]
  },
  {
   "cell_type": "markdown",
   "metadata": {},
   "source": [
    "## Acesso ao LLM"
   ]
  },
  {
   "cell_type": "markdown",
   "metadata": {},
   "source": [
    "Configure o LangChain para usar o LLM desejado.\n",
    "\n",
    "OBS: Você também pode usar a função `langchain.chat_models.init_chat_model()`."
   ]
  },
  {
   "cell_type": "code",
   "execution_count": 2,
   "metadata": {},
   "outputs": [],
   "source": [
    "from langchain_ollama import ChatOllama\n",
    "\n",
    "llm = ChatOllama(\n",
    "    model=\"llama3.2\", \n",
    "    temperature=0.0, \n",
    "    max_tokens=1000,\n",
    ")"
   ]
  },
  {
   "cell_type": "markdown",
   "metadata": {},
   "source": [
    "## LLM sem memória"
   ]
  },
  {
   "cell_type": "markdown",
   "metadata": {},
   "source": [
    "O LLM isolado não tem recursos de memória."
   ]
  },
  {
   "cell_type": "code",
   "execution_count": 3,
   "metadata": {},
   "outputs": [
    {
     "data": {
      "text/plain": [
       "'Olá, José da Silva! Fico feliz em conhecê-lo. Como posso ajudá-lo hoje? Você tem alguma pergunta ou precisa de ajuda com algo em particular? Estou aqui para ajudar!'"
      ]
     },
     "execution_count": 3,
     "metadata": {},
     "output_type": "execute_result"
    }
   ],
   "source": [
    "llm.invoke(\"Olá! Meu nome é José da Silva!\").content"
   ]
  },
  {
   "cell_type": "code",
   "execution_count": 4,
   "metadata": {},
   "outputs": [
    {
     "data": {
      "text/plain": [
       "'Desculpe, mas não tenho acesso a informações pessoais sobre você. Posso ajudar com algo mais?'"
      ]
     },
     "execution_count": 4,
     "metadata": {},
     "output_type": "execute_result"
    }
   ],
   "source": [
    "llm.invoke(\"Qual é meu nome?\").content"
   ]
  },
  {
   "cell_type": "markdown",
   "metadata": {},
   "source": [
    "## Chatbot com memória e conhecimento"
   ]
  },
  {
   "cell_type": "markdown",
   "metadata": {},
   "source": [
    "Defina o template do prompt de sistema do chatbot"
   ]
  },
  {
   "cell_type": "code",
   "execution_count": 5,
   "metadata": {},
   "outputs": [],
   "source": [
    "from datetime import datetime\n",
    "\n",
    "prompt_template = \"\"\"Você é uma assistente virtual amistosa e sempre disposta a ajudar.\n",
    "Seu nome é Ana. Você atende clientes da empresa ACME.\n",
    "\n",
    "Siga sempre as instruções abaixo:\n",
    "\n",
    "- APENAS na sua primeira mensagem enviada ao cliente:\n",
    "  fale o nome do cliente e deseje 'bom dia', 'boa tarde' ou 'boa noite', de acordo com o horário atual.\n",
    "  Por exemplo: 'Bom dia, <nome do cliente>!'\n",
    "- Dê respostas concisas.\n",
    "- Utilize apenas as informações mencionadas na conversa para responder perguntas.\n",
    "\n",
    "Informações gerais:\n",
    "\n",
    "- Horário atual: {current_time}\n",
    "- Data atual: {current_date}\n",
    "\n",
    "Informações do cliente:\n",
    "\n",
    "- Nome: José da Silva\n",
    "- Localização atual: Campinas, São Paulo\n",
    "- Comidas preferidas: vegetariana\n",
    "\"\"\"\n",
    "\n",
    "def make_system_prompt():\n",
    "    current_time = datetime.now().strftime(r\"%H:%M:%S\")\n",
    "    current_date = datetime.now().strftime(r\"%A, %Y-%m-%d\")\n",
    "    system_prompt = prompt_template.format(current_time=current_time, current_date=current_date)\n",
    "    return system_prompt"
   ]
  },
  {
   "cell_type": "code",
   "execution_count": 6,
   "metadata": {},
   "outputs": [
    {
     "name": "stdout",
     "output_type": "stream",
     "text": [
      "Você é uma assistente virtual amistosa e sempre disposta a ajudar.\n",
      "Seu nome é Ana. Você atende clientes da empresa ACME.\n",
      "\n",
      "Siga sempre as instruções abaixo:\n",
      "\n",
      "- APENAS na sua primeira mensagem enviada ao cliente:\n",
      "  fale o nome do cliente e deseje 'bom dia', 'boa tarde' ou 'boa noite', de acordo com o horário atual.\n",
      "  Por exemplo: 'Bom dia, <nome do cliente>!'\n",
      "- Dê respostas concisas.\n",
      "- Utilize apenas as informações mencionadas na conversa para responder perguntas.\n",
      "\n",
      "Informações gerais:\n",
      "\n",
      "- Horário atual: 00:49:54\n",
      "- Data atual: Sunday, 2025-05-18\n",
      "\n",
      "Informações do cliente:\n",
      "\n",
      "- Nome: José da Silva\n",
      "- Localização atual: Campinas, São Paulo\n",
      "- Comidas preferidas: vegetariana\n",
      "\n"
     ]
    }
   ],
   "source": [
    "print(make_system_prompt())"
   ]
  },
  {
   "cell_type": "markdown",
   "metadata": {},
   "source": [
    "Defina o código do chatbot, incluindo as mensagens anteriores do diálogo (memória)."
   ]
  },
  {
   "cell_type": "code",
   "execution_count": 7,
   "metadata": {},
   "outputs": [],
   "source": [
    "from langchain_core.messages import HumanMessage, SystemMessage\n",
    "\n",
    "# Memória do chatbot\n",
    "message_history = []\n",
    "\n",
    "def chatbot(message: str):\n",
    "    message_history.append(HumanMessage(message))\n",
    "    prompt = [SystemMessage(make_system_prompt())] + message_history\n",
    "    response = llm.invoke(prompt)\n",
    "    message_history.append(response)\n",
    "    print(response.content)\n"
   ]
  },
  {
   "cell_type": "markdown",
   "metadata": {},
   "source": [
    "## Conversando com o chatbot"
   ]
  },
  {
   "cell_type": "code",
   "execution_count": 8,
   "metadata": {},
   "outputs": [
    {
     "name": "stdout",
     "output_type": "stream",
     "text": [
      "Bom dia, José da Silva!\n",
      "\n",
      "Infelizmente, não tenho informações específicas sobre restaurantes na sua localização. Posso sugerir que você procure por opções de restaurante vegetariano em Campinas, São Paulo, e verifique as avaliações online para encontrar um lugar adequado para você.\n",
      "\n",
      "Se precisar de mais ajuda, estou à disposição!\n"
     ]
    }
   ],
   "source": [
    "chatbot(\"Você pode recomendar um restaurante para mim?\")"
   ]
  },
  {
   "cell_type": "code",
   "execution_count": 9,
   "metadata": {},
   "outputs": [
    {
     "name": "stdout",
     "output_type": "stream",
     "text": [
      "Boa tarde, José da Silva!\n",
      "\n",
      "Feliz aniversário! Lamento que você tenha mudado de cidade para o seu aniversário.\n",
      "\n",
      "São José dos Campos tem várias opções de cinema e teatro. Você pode procurar por cinemas de luxo como o Cineplex ou o Cinemex, que oferecem uma experiência de cinema de alta qualidade. Além disso, há também teatros de arte e teatros de comédia na cidade.\n",
      "\n",
      "Se precisar de mais recomendações ou ajuda para encontrar um local adequado, estou à disposição!\n"
     ]
    }
   ],
   "source": [
    "chatbot(\n",
    "    \"Hoje é meu aniversário e quero ir a um cinema também. \"\n",
    "    \"Aliás, eu gosto muito de cinema e teatro. \"\n",
    "    \"Mas olha, agora estou em São José dos Campos. \"\n",
    ")"
   ]
  },
  {
   "cell_type": "code",
   "execution_count": 10,
   "metadata": {},
   "outputs": [
    {
     "name": "stdout",
     "output_type": "stream",
     "text": [
      "Boa tarde, José da Silva!\n",
      "\n",
      "Sim, há várias agências da Caixa em São José dos Campos. Você pode procurar por \"Agência Caixa\" ou \"Caixa Econômica Federal\" no seu aplicativo de navegação ou online para encontrar a agência mais próxima.\n",
      "\n",
      "Se precisar de ajuda adicional, posso tentar ajudá-lo a encontrar a agência mais próxima!\n"
     ]
    }
   ],
   "source": [
    "chatbot(\n",
    "    \"Bom, mas eu preciso sacar dinheiro. \"\n",
    "    \"Eu tenho conta na Caixa. \"\n",
    "    \"Tem alguma agência da Caixa aqui na cidade?\"\n",
    ")"
   ]
  },
  {
   "cell_type": "code",
   "execution_count": 11,
   "metadata": {},
   "outputs": [
    {
     "name": "stdout",
     "output_type": "stream",
     "text": [
      "Bom dia, José da Silva!\n",
      "\n",
      "Até o momento, sei que você é um cliente da ACME e que está atualmente em São José dos Campos, São Paulo. Além disso, você mencionou que gosta de cinema e teatro, e que tem uma conta na Caixa. Isso é tudo o que tenho sobre você até agora!\n"
     ]
    }
   ],
   "source": [
    "chatbot(\"O que você sabe sobre mim?\")"
   ]
  },
  {
   "cell_type": "markdown",
   "metadata": {},
   "source": [
    "## Histórico da conversa"
   ]
  },
  {
   "cell_type": "code",
   "execution_count": 12,
   "metadata": {},
   "outputs": [
    {
     "name": "stdout",
     "output_type": "stream",
     "text": [
      "================================ Human Message =================================\n",
      "\n",
      "Você pode recomendar um restaurante para mim?\n",
      "\n",
      "================================== Ai Message ==================================\n",
      "\n",
      "Bom dia, José da Silva!\n",
      "\n",
      "Infelizmente, não tenho informações específicas sobre restaurantes na sua localização. Posso sugerir que você procure por opções de restaurante vegetariano em Campinas, São Paulo, e verifique as avaliações online para encontrar um lugar adequado para você.\n",
      "\n",
      "Se precisar de mais ajuda, estou à disposição!\n",
      "\n",
      "================================ Human Message =================================\n",
      "\n",
      "Hoje é meu aniversário e quero ir a um cinema também. Aliás, eu gosto muito de cinema e teatro. Mas olha, agora estou em São José dos Campos. \n",
      "\n",
      "================================== Ai Message ==================================\n",
      "\n",
      "Boa tarde, José da Silva!\n",
      "\n",
      "Feliz aniversário! Lamento que você tenha mudado de cidade para o seu aniversário.\n",
      "\n",
      "São José dos Campos tem várias opções de cinema e teatro. Você pode procurar por cinemas de luxo como o Cineplex ou o Cinemex, que oferecem uma experiência de cinema de alta qualidade. Além disso, há também teatros de arte e teatros de comédia na cidade.\n",
      "\n",
      "Se precisar de mais recomendações ou ajuda para encontrar um local adequado, estou à disposição!\n",
      "\n",
      "================================ Human Message =================================\n",
      "\n",
      "Bom, mas eu preciso sacar dinheiro. Eu tenho conta na Caixa. Tem alguma agência da Caixa aqui na cidade?\n",
      "\n",
      "================================== Ai Message ==================================\n",
      "\n",
      "Boa tarde, José da Silva!\n",
      "\n",
      "Sim, há várias agências da Caixa em São José dos Campos. Você pode procurar por \"Agência Caixa\" ou \"Caixa Econômica Federal\" no seu aplicativo de navegação ou online para encontrar a agência mais próxima.\n",
      "\n",
      "Se precisar de ajuda adicional, posso tentar ajudá-lo a encontrar a agência mais próxima!\n",
      "\n",
      "================================ Human Message =================================\n",
      "\n",
      "O que você sabe sobre mim?\n",
      "\n",
      "================================== Ai Message ==================================\n",
      "\n",
      "Bom dia, José da Silva!\n",
      "\n",
      "Até o momento, sei que você é um cliente da ACME e que está atualmente em São José dos Campos, São Paulo. Além disso, você mencionou que gosta de cinema e teatro, e que tem uma conta na Caixa. Isso é tudo o que tenho sobre você até agora!\n",
      "\n",
      "\n"
     ]
    }
   ],
   "source": [
    "from langchain_core.messages import SystemMessage\n",
    "\n",
    "def chat_history():\n",
    "    output = \"\"\n",
    "    for msg in message_history:\n",
    "        output += msg.pretty_repr() + \"\\n\\n\"\n",
    "    return output\n",
    "\n",
    "print(chat_history())"
   ]
  }
 ],
 "metadata": {
  "kernelspec": {
   "display_name": ".venv",
   "language": "python",
   "name": "python3"
  },
  "language_info": {
   "codemirror_mode": {
    "name": "ipython",
    "version": 3
   },
   "file_extension": ".py",
   "mimetype": "text/x-python",
   "name": "python",
   "nbconvert_exporter": "python",
   "pygments_lexer": "ipython3",
   "version": "3.11.11"
  }
 },
 "nbformat": 4,
 "nbformat_minor": 2
}
